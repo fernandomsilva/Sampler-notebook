{
 "cells": [
  {
   "cell_type": "markdown",
   "metadata": {},
   "source": [
    "# Mario Level Generator - Sampler"
   ]
  },
  {
   "cell_type": "markdown",
   "metadata": {},
   "source": [
    "## Library Import\n",
    "\n",
    "We begin by importing the requirements for our project. You may add any libraries that you wish, such as tensorflow or PyTorch. The example in this notebook uses keras for the machine learning code, but if you are experienced with something else, you are welcome to use whatever is your preference. To add a library, open a terminal and install whatever you require with pip."
   ]
  },
  {
   "cell_type": "code",
   "execution_count": null,
   "metadata": {},
   "outputs": [],
   "source": [
    "import os, sys\n",
    "import numpy as np\n",
    "from collections import Counter\n",
    "from typing import List\n",
    "from machina.challenge import helper, score\n",
    "from IPython.display import Video"
   ]
  },
  {
   "cell_type": "markdown",
   "metadata": {},
   "source": [
    "## Loading Training Data\n",
    "\n",
    "For this approach, we'll start by loading in all of the existing levels from the categories of our choice. To do so, we first write this helper function to process all of the level files of our choice and format them for use in our generator. As part of the processing, we are going to convert the levels from the format that the loading function loads them in (a list of strings representing the rows in the level, from top to bottom) to a list of strings representing the columns in the level, with the first string being the left-most column in the level."
   ]
  },
  {
   "cell_type": "code",
   "execution_count": null,
   "metadata": {},
   "outputs": [],
   "source": [
    "def prepare_training(level_category: str) -> list:\n",
    "    \"\"\"\n",
    "    This function loads all of the levels for a given category of levels. It also converts each from the \n",
    "    list-of-rows format in which they load from file to a list-of-columns format. \n",
    "    :param level_category: The string name of one of the existing level categories.\n",
    "    \"\"\"\n",
    "    x_train = []\n",
    "    for level_path in helper.levels_for_category(level_category, full_paths=True):\n",
    "        # First we load the level from file.\n",
    "        level = helper.load_level_file(level_path)\n",
    "        # Next we are going to transpose the level from list-of-rows to list-of-columns format.\n",
    "        # We'll do this using the library function score.transpose_level. \n",
    "        # Run `? score.transpose_level` for more information about this function.\n",
    "        transposed_level = score.transpose_level(level)\n",
    "        # Finally, we add the transposed level to the train\n",
    "        x_train.append(transposed_level)\n",
    "    return x_train"
   ]
  },
  {
   "cell_type": "markdown",
   "metadata": {},
   "source": [
    "To see all of the level categories, you can run `helper.level_categories()`. You can then update the `USED_CATEGORIES` list in the cell below to include only the ones that you want. Some categories of levels may be of higher quality than others, so experimenting with different combinations may lead to better performance in your submission."
   ]
  },
  {
   "cell_type": "code",
   "execution_count": null,
   "metadata": {},
   "outputs": [],
   "source": [
    "print(f'Level categories:\\n\\t{\", \".join(helper.level_categories())}')\n",
    "# Update this list with options from the level categories list to alter your list of used level examples.\n",
    "USED_CATEGORIES = [\n",
    "    'ge',\n",
    "    'hopper',\n",
    "    'notch',\n",
    "    'notchParam',\n",
    "    'notchParamRand',\n",
    "    'ore',\n",
    "    'patternCount',\n",
    "    'patternOccur',\n",
    "    'patternWeightCount'\n",
    "]\n",
    "print(f'Used categories:\\n\\t{\", \".join(USED_CATEGORIES)}')\n",
    "\n",
    "# Collect the example levels we want to use in our generator.\n",
    "example_levels = []\n",
    "for level_category in USED_CATEGORIES:\n",
    "    example_levels += prepare_training(level_category)\n",
    "\n",
    "num_examples = len(example_levels)\n",
    "print(f'Number of example levels: {num_examples}')"
   ]
  },
  {
   "cell_type": "markdown",
   "metadata": {},
   "source": [
    "## Build a sampler\n",
    "\n",
    "The sampler approach to level generation is fairly straightforward. All wee need to do is take chunks of `SAMPLE_WIDTH` from existing levels and piece them together until we have a level of length `OUTPUT_LENGTH`. So, for example, our new level may have the first 10 columns from one level, the next 10 from another, and so on until we reach our desired length. We will implement this as the `sampler` function below."
   ]
  },
  {
   "cell_type": "code",
   "execution_count": null,
   "metadata": {},
   "outputs": [],
   "source": [
    "def sampler(examples: List[List[str]], sample_width: int, output_length: int = 200) -> List[str]:\n",
    "    \"\"\"\n",
    "    This function generates a new level by taking chunks from existing levels and \n",
    "    piecing them together.\n",
    "    :param examples: Our example_levels, a list of lists of level column-strings.\n",
    "    :param sample_width: An integer width of the chunks to take from our example \n",
    "        levels to put into our new level.\n",
    "    :param output_length: The final length of the new level that we are creating. \n",
    "        For the competition, we want this to be 200, but you can experiment with \n",
    "        others for fun.\n",
    "    :return: A new level in list of row-strings format.\n",
    "    \"\"\"\n",
    "    # Create an empty list to fill with the column strings for our new level.\n",
    "    new_level = []\n",
    "    \n",
    "    current_index = 0\n",
    "    # We will build our level from block until there is not room for another full block.\n",
    "    while current_index + sample_width < output_length:\n",
    "        # Select a random level froom our list of example levels.\n",
    "        random_level_index = np.random.choice(num_examples)\n",
    "        random_level = example_levels[random_level_index]\n",
    "        # Extract a block from that level at our current index.\n",
    "        block = random_level[current_index:current_index+sample_width]\n",
    "        # Add that block to the level that we are building.\n",
    "        new_level += block\n",
    "        # Jump our position to where the next block needs to be added.\n",
    "        current_index += sample_width\n",
    "    \n",
    "    \n",
    "    # If we stopped short of a level of exactly output_length, we need to fill out the rest of the level. \n",
    "    if current_index != output_length - 1:\n",
    "        # Pick another random level.\n",
    "        random_level_index = np.random.choice(num_examples)\n",
    "        random_level = example_levels[random_level_index]\n",
    "        # Grab the end of the level to add to ours.\n",
    "        block = random_level[current_index:]\n",
    "        # Add it to ours.\n",
    "        new_level += block\n",
    "\n",
    "    # Now we have a new level of length output_length which is in list of column-strings format.\n",
    "    # Most of the helper functions for the competition, however, operate on list of row-strings,\n",
    "    # so let's flip the level back to that representation before returning it.\n",
    "    new_level = score.transpose_level(new_level)\n",
    "    \n",
    "    return new_level\n",
    "        "
   ]
  },
  {
   "cell_type": "markdown",
   "metadata": {},
   "source": [
    "## Generate and save a level\n",
    "\n",
    "Now that we have a generator function, we can generate and save a level."
   ]
  },
  {
   "cell_type": "code",
   "execution_count": null,
   "metadata": {},
   "outputs": [],
   "source": [
    "SAMPLE_WIDTH = 10\n",
    "OUTPUT_LENGTH = 200\n",
    "\n",
    "new_level_file = os.path.join(os.getcwd(), 'output/sampler-lvl.txt')\n",
    "sampled = sampler(example_levels, SAMPLE_WIDTH, OUTPUT_LENGTH)\n",
    "helper.write_level_to_file(sampled, new_level_file)"
   ]
  },
  {
   "cell_type": "markdown",
   "metadata": {},
   "source": [
    "## Run The Level\n",
    "\n",
    "Here we will run the level we generated to see how it looks. This will use the `helper` library function `run_level`. For details on this function's use, you can run the following in a code cell:\n",
    "\n",
    "`? helper.runLevel`\n",
    "\n",
    "Configured as we have below, `runLevel` will run an agent through our decoded level and then produce a video of the resulting run at the location `output/sampler-lvl.mp4`, relative to the location of this notebook."
   ]
  },
  {
   "cell_type": "code",
   "execution_count": null,
   "metadata": {},
   "outputs": [],
   "source": [
    "new_level_video_file = os.path.join(os.getcwd(), 'output', 'sampler-lvl.mp4')\n",
    "print(helper.runLevel(new_level_file, True, new_level_video_file, False))\n",
    "print(helper.score_level(new_level_file))"
   ]
  },
  {
   "cell_type": "markdown",
   "metadata": {},
   "source": [
    "Once the run is complete, we can use the `Video` function as below to watch our agent's run through the level."
   ]
  },
  {
   "cell_type": "code",
   "execution_count": null,
   "metadata": {},
   "outputs": [],
   "source": [
    "Video(new_level_video_file, embed=True)"
   ]
  },
  {
   "cell_type": "markdown",
   "metadata": {},
   "source": [
    "## Submitting A Generator\n",
    "\n",
    "In order to submit your generator to the competition, you must create a function like the one below which can be called with no arguments that produces a new level in list of row-strings format."
   ]
  },
  {
   "cell_type": "code",
   "execution_count": null,
   "metadata": {},
   "outputs": [],
   "source": [
    "def generate_level():\n",
    "    return sampler(example_levels, SAMPLE_WIDTH, OUTPUT_LENGTH)"
   ]
  },
  {
   "cell_type": "markdown",
   "metadata": {},
   "source": [
    "### Evaluating your generator\n",
    "\n",
    "Before you submit your generator, you can first check to see approximately how well it performs. To do so, you can run the evaluation function that will be run at submission time. You will, however, want to run the function multiple times, as evaluation involves scoring several levels generated using your generation function at random. As a result, the evaluation function will not return the same score every time, thus you will want to see how well your generator performs on average.\n",
    "\n",
    "This process can take a bit of time, as evaluating a generator requires running an agent through each generated level, possibly several times."
   ]
  },
  {
   "cell_type": "code",
   "execution_count": null,
   "metadata": {},
   "outputs": [],
   "source": [
    "NUM_EVALS = 3\n",
    "\n",
    "eval_scores = []\n",
    "for i in range(1, NUM_EVALS+1):\n",
    "    run_score = helper.evaluate_generator(generate_level)\n",
    "    eval_scores.append(run_score)\n",
    "    print(f'Eval {i} score: {run_score}')\n",
    "    \n",
    "print(f'Average Score: {round(sum(eval_scores)/NUM_EVALS, 2)}')"
   ]
  },
  {
   "cell_type": "markdown",
   "metadata": {},
   "source": [
    "### Submitting\n",
    "\n",
    "When you're happy with your generator, the last step is to submit it to the competition. To do so, you will use the `helper.submit` function. This function takes two arguments:\n",
    "1. An absolute file path location of this notebook.\n",
    "2. Your generator function created above. As noted, the generator function must be a function which may be called with no parameters passed to it and returns a level in list of strings format.\n",
    "\n",
    "Your generator will then be used to generate some new levels and scored based on those levels. It is worth noting that you are free to submit as many times as you like, but each new submission will overwrite all previous ones."
   ]
  },
  {
   "cell_type": "code",
   "execution_count": null,
   "metadata": {},
   "outputs": [],
   "source": [
    "# Get the path to this notebook.\n",
    "notebook_path = os.path.join(os.getcwd(), 'Sampler.ipynb')\n",
    "# Submit to the competition.\n",
    "helper.submit(notebook_path, generate_level)"
   ]
  }
 ],
 "metadata": {
  "kernelspec": {
   "display_name": "Python 3",
   "language": "python",
   "name": "python3"
  },
  "language_info": {
   "codemirror_mode": {
    "name": "ipython",
    "version": 3
   },
   "file_extension": ".py",
   "mimetype": "text/x-python",
   "name": "python",
   "nbconvert_exporter": "python",
   "pygments_lexer": "ipython3",
   "version": "3.7.4"
  }
 },
 "nbformat": 4,
 "nbformat_minor": 2
}
